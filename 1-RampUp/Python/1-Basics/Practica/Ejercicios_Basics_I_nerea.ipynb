{
 "cells": [
  {
   "cell_type": "markdown",
   "metadata": {},
   "source": [
    "![imagen](./img/ejercicios.png)"
   ]
  },
  {
   "cell_type": "markdown",
   "metadata": {},
   "source": [
    "# Ejercicios Python Basics I"
   ]
  },
  {
   "cell_type": "markdown",
   "metadata": {},
   "source": [
    "## Ejercicio 0\n",
    "Imprime por pantalla esta cita con el siguiente formato\n",
    "\n",
    "![imagen](./img/frase_Einstein.PNG)"
   ]
  },
  {
   "cell_type": "code",
   "execution_count": 10,
   "metadata": {},
   "outputs": [
    {
     "name": "stdout",
     "output_type": "stream",
     "text": [
      "¿Por qué manifica tecnologia cientifica,\n",
      "\t que ahorra traajo y nos hace la vida mas facil\n",
      "\t\t nos aporta tan poca felicidad?\n",
      "\t\t\t La respuesta esta, simplemente: porque aun ni hemos aprendido a usarla con tino. \n",
      " `Albert Einstein´\n"
     ]
    }
   ],
   "source": [
    "print(\"¿Por qué manifica tecnologia cientifica,\\n\\t que ahorra traajo y nos hace la vida mas facil\\n\\t\\t nos aporta tan poca felicidad?\\n\\t\\t\\t La respuesta esta, simplemente: porque aun ni hemos aprendido a usarla con tino. \\n `Albert Einstein´\")"
   ]
  },
  {
   "cell_type": "code",
   "execution_count": null,
   "metadata": {},
   "outputs": [],
   "source": []
  },
  {
   "cell_type": "markdown",
   "metadata": {},
   "source": [
    "## Ejercicio 1\n",
    "1. Escribe el nombre de la calle de tu domicilio en una variable\n",
    "2. Escribe el numero de la calle en otra\n",
    "3. Ciudad en una tercera\n",
    "4. Codigo postal en la cuarta variable\n",
    "5. Imprime las 4 variables concatenadas por pantalla\n",
    "6. Crea una quinta variable que concatene todas ellas\n",
    "7. Imprímela por pantalla"
   ]
  },
  {
   "cell_type": "code",
   "execution_count": null,
   "metadata": {},
   "outputs": [],
   "source": [
    "# \"15\" > \"5\""
   ]
  },
  {
   "cell_type": "code",
   "execution_count": 27,
   "metadata": {},
   "outputs": [
    {
     "name": "stdout",
     "output_type": "stream",
     "text": [
      "Fernandez del campo 8 bilbo 48010\n",
      "Vivo en Fernandez del campo 8, bilbo, 48010\n"
     ]
    }
   ],
   "source": [
    "variable_direcc= \"Fernandez del campo\"\n",
    "variable_num= 8\n",
    "variable_ciudad= \"bilbo\"\n",
    "variable_cp= 48010\n",
    "print(f\"{variable_direcc} {variable_num} {variable_ciudad} {variable_cp}\")\n",
    "Frase=f\"Vivo en {variable_direcc} {variable_num}, {variable_ciudad}, {variable_cp}\"\n",
    "print(Frase)\n"
   ]
  },
  {
   "cell_type": "code",
   "execution_count": null,
   "metadata": {},
   "outputs": [],
   "source": []
  },
  {
   "cell_type": "code",
   "execution_count": null,
   "metadata": {},
   "outputs": [],
   "source": []
  },
  {
   "cell_type": "markdown",
   "metadata": {},
   "source": [
    "## Ejercicio 2\n",
    "Repite el ejercicio 1, pero pidiendo estos datos al usuario mediante un input(), imprimiendo a continuación la dirección completa"
   ]
  },
  {
   "cell_type": "code",
   "execution_count": 31,
   "metadata": {},
   "outputs": [
    {
     "name": "stdout",
     "output_type": "stream",
     "text": [
      "Genial te enviamos la pizza a la calle fernandez del campo numero 8 en bilbo y codigo postal 48010. Muchas gracias por su pedido.\n"
     ]
    }
   ],
   "source": [
    "v_direcc=input(\"¿En que calle vives?\")\n",
    "v_num=input(\"¿En que numero?\")\n",
    "v_ciudad=input(\"¿En que ciudad?\")\n",
    "v_cp=input(\"¿Cual es el codigo postal?\")\n",
    "frase=f\"Genial te enviamos la pizza a la calle {v_direcc} numero {v_num} en {v_ciudad} y codigo postal {v_cp}. Muchas gracias por su pedido.\"\n",
    "print(frase)"
   ]
  },
  {
   "cell_type": "code",
   "execution_count": null,
   "metadata": {},
   "outputs": [],
   "source": []
  },
  {
   "cell_type": "markdown",
   "metadata": {},
   "source": []
  },
  {
   "cell_type": "markdown",
   "metadata": {},
   "source": [
    "## Ejercicio 3\n",
    "¿Qué variables están mal escritas y por qué? Realiza primero tu hipótesis y luego ejecuta las variables para comprobarlo. En ese orden :)\n",
    "\n",
    "\n",
    "1. mi_variable = \"Economía\"\n",
    "2. otra_var = \"Ejercicio\n",
    "3. True = \"Ejercicio\"\n",
    "4. mi variab1e = \"Alpha\"\n",
    "5. import = 40\n",
    "6. 81mi_variable = \"Agua\"\n",
    "7. mi_variable10 = 6"
   ]
  },
  {
   "cell_type": "markdown",
   "metadata": {},
   "source": [
    "1. Correcta, pero creo que es mejor sin tildes\n",
    "2. Incorrecta, no cierra comillas\n",
    "3. La buena practica sería escribir todo en minúscula\n",
    "4. Incorrecta? Supongo que es un error poner un 1 (numero) en vez de una l(letra)\n",
    "5. Correta\n",
    "6. Incorrecta, no puede contener numeros al comienzo\n",
    "7. Correcta\n"
   ]
  },
  {
   "cell_type": "code",
   "execution_count": null,
   "metadata": {},
   "outputs": [],
   "source": []
  },
  {
   "cell_type": "code",
   "execution_count": null,
   "metadata": {},
   "outputs": [],
   "source": []
  },
  {
   "cell_type": "code",
   "execution_count": null,
   "metadata": {},
   "outputs": [],
   "source": []
  },
  {
   "cell_type": "code",
   "execution_count": null,
   "metadata": {},
   "outputs": [],
   "source": []
  },
  {
   "cell_type": "code",
   "execution_count": null,
   "metadata": {},
   "outputs": [],
   "source": []
  },
  {
   "cell_type": "code",
   "execution_count": 28,
   "metadata": {},
   "outputs": [],
   "source": []
  },
  {
   "cell_type": "markdown",
   "metadata": {},
   "source": [
    "## Ejercicio 4\n",
    "Realiza un conversor de grados Celsius a Fahrenheit. El conversor tiene que recibir el input del usuario y devolver la conversión.\n",
    "\n",
    "La conversión de grados sigue la siguiente fórmula: F = C × (9 / 5) + 32 "
   ]
  },
  {
   "cell_type": "code",
   "execution_count": null,
   "metadata": {},
   "outputs": [
    {
     "name": "stdout",
     "output_type": "stream",
     "text": [
      "20\n",
      "<class 'str'>\n",
      "<class 'float'>\n",
      "68.0\n",
      "Genial, 20.0 equivalen a 68.0grados Fahrenheit\n"
     ]
    }
   ],
   "source": [
    "# Recibo input de grados celsius\n",
    "v_grados_celsius = input(\"¿Cuantos grados celsius hay en tu casa?\")\n",
    "# Imprimo los grados celsius solo por cerciorarme\n",
    "print (v_grados_celsius)\n",
    "# Aquí me me daba error porque no era floar y he tenido que ver qué tipo era\n",
    "print (type (v_grados_celsius))\n",
    "# Aquí le indico que debe ser float, se lo ordeno, soy su jefa\n",
    "v_grados_celsius = float (v_grados_celsius)\n",
    "# Indico cómo realizar la conversión de Celsius a Farenheit\n",
    "v_Fahrengeit = (v_grados_celsius*(9/5)+32)\n",
    "# Imprimo Farenheit type para cerciorarme de que es correcto\n",
    "print (type (v_Fahrengeit))\n",
    "# Imprimo Farenheit para cerciorarme de que es correcto\n",
    "print (v_Fahrengeit)\n",
    "# Le indico la estrucura de la frase\n",
    "frase = f\"Genial, {v_grados_celsius} equivalen a {v_Fahrengeit} grados Fahrenheit\"\n",
    "# Le pido que la imprima\n",
    "print (frase)"
   ]
  },
  {
   "cell_type": "markdown",
   "metadata": {},
   "source": [
    "## Ejercicio 5\n",
    "Comenta  el Ejercicio 4. Pon un comentario multilinea y haz comentarios de cada linea de código"
   ]
  },
  {
   "cell_type": "markdown",
   "metadata": {},
   "source": [
    "\n"
   ]
  },
  {
   "cell_type": "code",
   "execution_count": 39,
   "metadata": {},
   "outputs": [],
   "source": [
    "\n"
   ]
  },
  {
   "cell_type": "code",
   "execution_count": null,
   "metadata": {},
   "outputs": [],
   "source": []
  }
 ],
 "metadata": {
  "kernelspec": {
   "display_name": "Python 3",
   "language": "python",
   "name": "python3"
  },
  "language_info": {
   "codemirror_mode": {
    "name": "ipython",
    "version": 3
   },
   "file_extension": ".py",
   "mimetype": "text/x-python",
   "name": "python",
   "nbconvert_exporter": "python",
   "pygments_lexer": "ipython3",
   "version": "3.11.9"
  },
  "nbTranslate": {
   "displayLangs": [
    "*"
   ],
   "hotkey": "alt-t",
   "langInMainMenu": true,
   "sourceLang": "en",
   "targetLang": "fr",
   "useGoogleTranslate": true
  },
  "varInspector": {
   "cols": {
    "lenName": 16,
    "lenType": 16,
    "lenVar": 40
   },
   "kernels_config": {
    "python": {
     "delete_cmd_postfix": "",
     "delete_cmd_prefix": "del ",
     "library": "var_list.py",
     "varRefreshCmd": "print(var_dic_list())"
    },
    "r": {
     "delete_cmd_postfix": ") ",
     "delete_cmd_prefix": "rm(",
     "library": "var_list.r",
     "varRefreshCmd": "cat(var_dic_list()) "
    }
   },
   "types_to_exclude": [
    "module",
    "function",
    "builtin_function_or_method",
    "instance",
    "_Feature"
   ],
   "window_display": false
  }
 },
 "nbformat": 4,
 "nbformat_minor": 4
}
