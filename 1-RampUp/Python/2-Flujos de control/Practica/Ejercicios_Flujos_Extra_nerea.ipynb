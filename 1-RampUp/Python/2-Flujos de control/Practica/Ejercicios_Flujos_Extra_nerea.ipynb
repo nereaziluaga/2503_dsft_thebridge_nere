{
 "cells": [
  {
   "cell_type": "markdown",
   "metadata": {},
   "source": [
    "![imagen](./img/ejercicios.png)"
   ]
  },
  {
   "cell_type": "markdown",
   "metadata": {},
   "source": [
    "# Ejercicios Flujos de control"
   ]
  },
  {
   "cell_type": "markdown",
   "metadata": {},
   "source": [
    "## Ejercicio Extra\n",
    "Programa una calculadora que\n",
    "\n",
    "* Pregunte qué operación quieres realizar (multiplicación/división/suma/resta/potencia/salir)\n",
    "* Pida dos números \n",
    "* Realice la operación\n",
    "* Siga funcionando hasta que el usuario elija salir\n",
    "\n",
    "#### Bonus:\n",
    "* Que guarde todas las operaciones realizadas y las imprima por pantalla cuando el usuario elija esa opción\n",
    "* Que sea robusta frente a entradas erróneas del usuario o frente a operaciones como dividir por 0"
   ]
  },
  {
   "cell_type": "code",
   "execution_count": null,
   "metadata": {},
   "outputs": [
    {
     "ename": "SyntaxError",
     "evalue": "invalid syntax. Perhaps you forgot a comma? (3241169542.py, line 1)",
     "output_type": "error",
     "traceback": [
      "  \u001b[36mCell\u001b[39m\u001b[36m \u001b[39m\u001b[32mIn[16]\u001b[39m\u001b[32m, line 1\u001b[39m\n\u001b[31m    \u001b[39m\u001b[31mp_operacion = input(\"Indica qué operación quieres realizar: \"multiplicación\", \"división\", suma, resta, potencia o salir\")\u001b[39m\n                        ^\n\u001b[31mSyntaxError\u001b[39m\u001b[31m:\u001b[39m invalid syntax. Perhaps you forgot a comma?\n"
     ]
    }
   ],
   "source": [
    "operacion = [\"multiplicacion\", \"division\", \"suma\", \"resta\", \"potencia\", \"salir\"]\n",
    "list \n",
    "p_operacion = input(\"Indica qué operación quieres realizar: multiplicación, división, suma, resta, potencia o salir\")\n",
    "numero_1= input (\"Introduce el primer número con el que vas a trabajar\")\n",
    "numero_2= input (\"Introduce el segundo número con el que vas a trabajar\")\n",
    "numero_1=float(numero_1)\n",
    "numero_2=float(numero_2)\n",
    "#print (type(numero_2))\n",
    "if p_operacion == (\"multiplicacion\"):\n",
    "    numero_1 * numero_2\n",
    "    print\n",
    "elif p_operacion == (división)\n",
    "    numero_1 / numero_2\n",
    "    print\n",
    "elif p_operacion == suma\n",
    "    numero_1 + numero_2\n",
    "    print \n",
    "elif p_operacion == resta\n",
    "    numero_1 - numero_2\n",
    "    print \n",
    "\n",
    "    "
   ]
  },
  {
   "cell_type": "code",
   "execution_count": null,
   "metadata": {},
   "outputs": [],
   "source": [
    "\n",
    "numero_1= input (\"8\")\n",
    "numero_2= input (\"2\")\n",
    "p_operacion == (\"multiplicación\")\n",
    "numero_1 * numero_2"
   ]
  }
 ],
 "metadata": {
  "kernelspec": {
   "display_name": "Python 3",
   "language": "python",
   "name": "python3"
  },
  "language_info": {
   "codemirror_mode": {
    "name": "ipython",
    "version": 3
   },
   "file_extension": ".py",
   "mimetype": "text/x-python",
   "name": "python",
   "nbconvert_exporter": "python",
   "pygments_lexer": "ipython3",
   "version": "3.11.9"
  }
 },
 "nbformat": 4,
 "nbformat_minor": 4
}
