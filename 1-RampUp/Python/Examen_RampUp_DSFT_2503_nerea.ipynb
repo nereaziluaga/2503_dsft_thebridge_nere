{
 "cells": [
  {
   "cell_type": "markdown",
   "metadata": {},
   "source": [
    "# Test RAMP UP DS-FT Marzo 2025"
   ]
  },
  {
   "cell_type": "markdown",
   "metadata": {},
   "source": [
    "Antes de comenzar, cambia el nombre del archivo notebook poniéndole delante tu nombre y primer apellido:\n",
    "\n",
    "* nombre_apellido_test_pract_marzo_2025.ipynb"
   ]
  },
  {
   "cell_type": "code",
   "execution_count": 1,
   "metadata": {},
   "outputs": [],
   "source": [
    "# Escribe tu nombre y apellidos (apellido si solo tienes uno) en las variables:\n",
    "nombre = \"Nerea\"\n",
    "apellidos = \"Lopez\""
   ]
  },
  {
   "cell_type": "code",
   "execution_count": 2,
   "metadata": {},
   "outputs": [
    {
     "name": "stdout",
     "output_type": "stream",
     "text": [
      "Bienvenido Nerea Lopez. Mucha suerte!\n"
     ]
    }
   ],
   "source": [
    "# Solo ejecutar\n",
    "nombre_apellidos = nombre + ' ' + apellidos\n",
    "print(\"Bienvenido\", nombre_apellidos + '. Mucha suerte!')"
   ]
  },
  {
   "cell_type": "markdown",
   "metadata": {},
   "source": [
    "-----------------"
   ]
  },
  {
   "cell_type": "code",
   "execution_count": null,
   "metadata": {},
   "outputs": [],
   "source": [
    "\"\"\"\n",
    "Criterios de corrección:\n",
    "\n",
    "ejecución (ausencia de errores y obtención de resultados)\n",
    "estructura del código\n",
    "uso correcto de variables\n",
    "manejo de tipo de variables\n",
    "asignaciones\n",
    "operaciones booleanas\n",
    "manejo lógico de flujos de control y bucles\n",
    "uso de colecciones\n",
    "uso de funciones\n",
    "\"\"\"\n",
    "\n",
    "# Ejemplo de como queremos ver el código para más de un intento:\n",
    "\n",
    "# intento 1\n",
    "#your code\n",
    "\n",
    "# intento 2\n",
    "#your code"
   ]
  },
  {
   "cell_type": "markdown",
   "metadata": {},
   "source": [
    "#### Notas y pruebas de apoyo para contestar las preguntas\n",
    "\n",
    "\n",
    "Cualquier código aunque no esté correcto nos dirá más de ti que no escribir nada. "
   ]
  },
  {
   "cell_type": "code",
   "execution_count": null,
   "metadata": {},
   "outputs": [],
   "source": [
    "# No te olvides de documentar el código para dejar clara la lógica, sobre todo cuando no sale el resultado"
   ]
  },
  {
   "cell_type": "markdown",
   "metadata": {},
   "source": [
    "### Ejercicio 1\n",
    "En este ejercicio se va a crear una lista con los siguientes elementos. Primero, crearemos las variables que luego añadiremos a la lista. Las variables son las siguientes:\n",
    "\n",
    "1. Crea una variable llamada `edad` de tipo Integer que represente tu edad en años. \n",
    "2. Crea una variable llamada `poblacion` de tipo String , con tu población de nacimiento. \n",
    "3. Crea una variable llamada `altura` con el valor de tu altura en metros de tipo float.\n",
    "4. Crea una variable llamada `s_operativo` de tipo Boolean True si usas Windows y False si usas otro.\n",
    "5. Crea una variable llamada `nada` de tipo None cuyo valor sea None.\n",
    "6. Crea una variable llamada `lista_vacaciones` de tipo List que contenga 5 destinos de viaje a los que te gustaría ir. Cada elemento ha de ser de tipo String.\n",
    "7. Crea una variable llamada `tupla_isla` de tipo Tuple con tres objetos que te llevarías a una isla desierta.\n",
    "8. Crea una variable llamada `dict_pc` con dos keys y dos values. Una key es `marca`, teniendo como value la marca de tu pc de tipo String. Otra key es la `ram`, cuyo valor es es un entero del número de gigas de la ram de tu ordenador\n",
    "9. Añade todos estos elementos en una lista llamada `lista_examen` en el orden de aparición.\n",
    "10. Guarda en la variable `lon_lista_examen` la longitud de `lista_examen`."
   ]
  },
  {
   "cell_type": "code",
   "execution_count": null,
   "metadata": {},
   "outputs": [
    {
     "name": "stdout",
     "output_type": "stream",
     "text": [
      "['v_edad', 'poblacion', 'altura', 's_operativo', 'nada', 'lista_vacaciones', 'tupla_isla', 'dict_pc']\n",
      "8\n"
     ]
    }
   ],
   "source": [
    "v_edad= 38\n",
    "poblacion= \"Ibarrangelu\"\n",
    "altura: 1.65\n",
    "s_operativo= True\n",
    "nada=None\n",
    "lista_vacaciones=[\"Filipinas\",\"Japón\",\"Australia\",\"Nueva Zelanda\",\"Canadá\"]\n",
    "tupla_isla=(\"cuchillo\", \"manta\", \"Sintrom\")\n",
    "dict_pc={\"marca\":\"dell\",\n",
    "        \"ram\":500}\n",
    "lista_examen=[\"v_edad\",\"poblacion\",\"altura\",\"s_operativo\",\"nada\",\"lista_vacaciones\",\"tupla_isla\",\"dict_pc\"]\n",
    "print(lista_examen)\n",
    "lon_lista_examen=(len(lista_examen)) #Con len puedo ver la longitud de la lista\n",
    "print (lon_lista_examen)\n"
   ]
  },
  {
   "cell_type": "markdown",
   "metadata": {},
   "source": [
    "### Ejercicio 2\n",
    "\n",
    "Escribe un programa que simule un libro de \"sigue tu propia aventura\". Solo se pide control de flujo y uso de print().\n",
    "\n",
    "El programa tiene dos variables:\n",
    "\n",
    "*puerta* --> es una variable de tipo entero\n",
    "\n",
    "*amuleto* --> es una variable booleana\n",
    "\n",
    "\n",
    "    · Si la puerta que eliges es la 1, imprime \"has perdido\"\n",
    "\n",
    "    · Si la puerta que eliges es la 2 y tienes el amuleto (verdadero), imprime \"has ganado\"\n",
    "\n",
    "    · En cualquier otro caso, imprime \"sigue jugando\"\n",
    "\n",
    "Haz este programa de dos formas: usando un AND y sin usar un AND\n",
    "\n",
    "Nota: no son necesarias funciones. Puedes declarar puerta y amuleto al principio de tu programa."
   ]
  },
  {
   "cell_type": "code",
   "execution_count": null,
   "metadata": {},
   "outputs": [
    {
     "name": "stdout",
     "output_type": "stream",
     "text": [
      "Sigue jugando\n"
     ]
    }
   ],
   "source": [
    "puerta:2\n",
    "amuleto=False\n",
    "if puerta == 1:\n",
    "    print (\"Has perdido\")\n",
    "elif puerta == 2 and amuleto==True:\n",
    "    print (\"Has ganado\")\n",
    "else:\n",
    "    print (\"Sigue jugando\")\n",
    "\n",
    "#Sé que no debería tener que cambiarlo arria, pero así me funciona y me estaba desesperando.\n",
    "\n",
    " "
   ]
  },
  {
   "cell_type": "code",
   "execution_count": null,
   "metadata": {},
   "outputs": [
    {
     "name": "stdout",
     "output_type": "stream",
     "text": [
      "<class 'str'>\n"
     ]
    }
   ],
   "source": []
  },
  {
   "cell_type": "markdown",
   "metadata": {},
   "source": [
    "### Ejercicio 3\n",
    "\n",
    "Escribe un programa que solicite al usuario un número entero positivo n y luego imprima un triángulo de asteriscos (*) de altura n. Por ejemplo, si el usuario ingresa 5, el programa debería imprimir:"
   ]
  },
  {
   "cell_type": "code",
   "execution_count": null,
   "metadata": {},
   "outputs": [],
   "source": [
    "'''\n",
    "\n",
    "*\n",
    "*  *  \n",
    "*  *  *  \n",
    "*  *  *  *\n",
    "*  *  *  *  *\n",
    "\n",
    "'''"
   ]
  },
  {
   "cell_type": "code",
   "execution_count": null,
   "metadata": {},
   "outputs": [
    {
     "ename": "SyntaxError",
     "evalue": "invalid syntax. Perhaps you forgot a comma? (365598492.py, line 2)",
     "output_type": "error",
     "traceback": [
      "  \u001b[36mCell\u001b[39m\u001b[36m \u001b[39m\u001b[32mIn[2]\u001b[39m\u001b[32m, line 2\u001b[39m\n\u001b[31m    \u001b[39m\u001b[31mlista=[list(range 0:5)]\u001b[39m\n                ^\n\u001b[31mSyntaxError\u001b[39m\u001b[31m:\u001b[39m invalid syntax. Perhaps you forgot a comma?\n"
     ]
    }
   ],
   "source": [
    "def triangulo (x+n):\n",
    "    lista= list(range(0:5))\n",
    "    "
   ]
  },
  {
   "cell_type": "code",
   "execution_count": null,
   "metadata": {},
   "outputs": [],
   "source": [
    "for i in list(range(0:5)):\n",
    "    "
   ]
  },
  {
   "cell_type": "markdown",
   "metadata": {},
   "source": [
    "### Ejercicio 4\n",
    "\n",
    "Crea un programa que pida una contraseña por teclado e indique si es correcta\n",
    "o incorrecta con un print(). La contraseña correcta es “python”. Si la contraseña era incorrecta la pide de nuevo hasta 3 veces como máximo. Si al tercer intento no se acierta, debe ponerse a None y poner en un print() que la cuenta se ha bloqueado. Si se consigue entrar, se muestra que es correcta en un print(). Debe haber como mínimo un **BUCLE WHILE**"
   ]
  },
  {
   "cell_type": "code",
   "execution_count": null,
   "metadata": {},
   "outputs": [
    {
     "name": "stdout",
     "output_type": "stream",
     "text": [
      "2\n",
      "Contraseña incorrecta. Tienes 2 oportunidades más\n",
      "2\n",
      "Contraseña incorrecta. Tienes 2 oportunidades más\n",
      "2\n",
      "Contraseña incorrecta. Tienes 2 oportunidades más\n",
      "2\n",
      "Contraseña incorrecta. Tienes 2 oportunidades más\n"
     ]
    }
   ],
   "source": [
    "#Esto es el intento 2. Abajo el 1. ESte tampoco funciona.\n",
    "contraseña=\"python\"\n",
    "intentos=3\n",
    "intentos_restantes= (intentos-1)\n",
    "seguir_probando=bool\n",
    "if intentos_restantes <= 3: #Aquí intento marcar las 3 veces que se repite en bucle como máximo\n",
    "    seguir_probando=True\n",
    "if intentos_restantes == 0:\n",
    "    seguir_probando=False\n",
    "    print (\"Tu cuenta se ha bloqueado\")\n",
    "while seguir_probando==True: #como le he dicho que true es si tiene vidas, empiezo así el while.\n",
    "    pass_user=input(\"introduce la contraseña\")\n",
    "    if pass_user==\"python\":\n",
    "        print(\"Contraseña correcta\")\n",
    "        break #Aquí le he metido el break para romper en bucle, pero no se rompe.\n",
    "    elif pass_user != \"python\":\n",
    "        intentos_restantes= (intentos-1)\n",
    "        print (intentos_restantes)\n",
    "        print (f\"Contraseña incorrecta. Tienes {intentos_restantes} oportunidades más\")\n",
    " "
   ]
  },
  {
   "cell_type": "code",
   "execution_count": null,
   "metadata": {},
   "outputs": [
    {
     "name": "stdout",
     "output_type": "stream",
     "text": [
      "Tu cuenta se ha bloqueado\n"
     ]
    }
   ],
   "source": [
    "#Esto es el intento 1 que no me funciona. Arriba el 2.\n",
    "contraseña=\"python\"\n",
    "intentos=3\n",
    "seguir_probando=True\n",
    "#inten_restantes=(intentos - 1)\n",
    "if intentos < 3:\n",
    "    seguir_probando=True\n",
    "if intentos>=3:\n",
    "    seguir_probando=False\n",
    "    print (\"Tu cuenta se ha bloqueado\")\n",
    "while seguir_probando==True:\n",
    "    pass_user=input(\"introduce la contraseña\")\n",
    "    if pass_user==\"python\":\n",
    "        print(\"Contraseña correcta\")\n",
    "    elif pass_user != \"python\":\n",
    "        print (\"Contraseña incorrecta. Tienes 2 oportunidades más\")\n",
    "        intentos=(intentos-1)\n",
    "    "
   ]
  },
  {
   "cell_type": "markdown",
   "metadata": {},
   "source": [
    "### Ejercicio 5\n",
    "Una empresa usa dos listas  para guardar la información de sus empleados. Una lista guarda el nombre del empleado y la otra guarda su salario. Escribe un programa que cree esas dos listas originalmente vacías y que a través de un menú pueda hacer lo siguiente:\n",
    "    \n",
    "Inserta 1 para añadir un nuevo empleado y su salario\n",
    "\n",
    "Inserta 2 para imprimir los nombres y salarios de todos los empleados\n",
    "\n",
    "Inserta 3 para mostrar el número de empleados\n",
    "\n",
    "Inserta 4 para imprimir los nombres de los empleados con sueldos superiores a 400000\n",
    "\n",
    "Inserta 5 para subir un 5% los sueldos por debajo de 10000\n",
    "\n",
    "Inserta 6 para mostrar el total de todos los salarios\n",
    "\n",
    "Inserta 7 para salir del programa"
   ]
  },
  {
   "cell_type": "code",
   "execution_count": null,
   "metadata": {},
   "outputs": [],
   "source": [
    "#Inserta 1 para añadir un nuevo empleado y su salario\n",
    "lista_nombre=[]\n",
    "lista_salario=[]\n",
    "base_datos = {\n",
    "    \"emple_1\": {\n",
    "        \"empleada\": \"Nerea\",\n",
    "        \"salario\": 95000,\n",
    "    },\n",
    "    \"emple_2\": {\n",
    "       \"empleada\": \"Jon\",\n",
    "        \"salario\": 20000,\n",
    "},\n",
    "    \"emple_3\": {\n",
    "       \"empleada\": \"Aintzae\",\n",
    "        \"salario\": 30000,\n",
    "}\n",
    "    }\n",
    "base_datos.update {}\n",
    "    \n",
    "    "
   ]
  },
  {
   "cell_type": "code",
   "execution_count": null,
   "metadata": {},
   "outputs": [],
   "source": [
    "def añadir_emp_sal ((lista_nombre), (lista_salario)):"
   ]
  },
  {
   "cell_type": "code",
   "execution_count": null,
   "metadata": {},
   "outputs": [],
   "source": [
    "#Inserta 2 para imprimir los nombres y salarios de todos los empleados\n",
    "print (lista_nombre)\n",
    "print (lista_salario)"
   ]
  },
  {
   "cell_type": "code",
   "execution_count": null,
   "metadata": {},
   "outputs": [],
   "source": [
    "#Inserta 3 para mostrar el número de empleados\n",
    "\n",
    "num_empleados=len(lista_nombre)\n",
    "print (num_empleados)"
   ]
  },
  {
   "cell_type": "code",
   "execution_count": null,
   "metadata": {},
   "outputs": [],
   "source": [
    "#Inserta 4 para imprimir los nombres de los empleados con sueldos superiores a 400000"
   ]
  },
  {
   "cell_type": "code",
   "execution_count": null,
   "metadata": {},
   "outputs": [],
   "source": [
    "#Inserta 5 para subir un 5% los sueldos por debajo de 10000"
   ]
  },
  {
   "cell_type": "code",
   "execution_count": null,
   "metadata": {},
   "outputs": [],
   "source": [
    "#Inserta 6 para mostrar el total de todos los salarios\n"
   ]
  },
  {
   "cell_type": "markdown",
   "metadata": {},
   "source": [
    "\n",
    "### Ejercicio 6 (**EXTRA**)\n",
    "\n",
    "#### Crear un programa que calcule la cuota de una hipoteca\n",
    "\n",
    "Las cuotas hipotecarias se calculan utilizando la fórmula del interés francés. \n",
    "\n",
    "La fórmula del interés frances es la siguiente:\n",
    "\\begin{align*}\n",
    "C=V \\frac{(1+i)^n i}{(1+i)^n -1}\n",
    "\\end{align*}\n",
    "\n",
    "\n",
    "    C = cuota a pagar (mensual)\n",
    "    V = volumen del préstamo hipotecario\n",
    "    i = tipo de interés del período (mensual)\n",
    "    n = número de cuotas (mensuales)\n",
    "\n",
    "1. Crea un programa que solicite al usuario los datos de su hipoteca mediante input() los datos (volumen, interés **anual**, y plazo en **años**) y le devuelva la cuota **mensual** a pagar. No es necesario encapsularlo en funciones.\n",
    "\n",
    "2. Crea una función `calcular_hip` que realiza el cálculo y cuyos argumentos de entrada sean `volumen`, `interes_anual` y `años`, devolviendo la couta mensual(float). El argumento de `años` deberá de tener un valor por defecto de 30.\n",
    "3. Calcula la cuota y guárdala en la variable `res_cuota` si la cantidad de la hipoteca son 350000 euros, el interés anual es del 5% y la quiere pagar en 20 años a partir de la función `calcular_hip`.\n",
    "4. Crea una función `gasto_vivienda`, con dos argumentos de entrada `ingreso` y `lista_hip`. Esta lista tendrá los 3 valores de los argumentos de entrada de `calcular_hip`, siendo esta una función que deberá ser utilizada dentro de `gasto_vivienda`. Tiene que devolver el valor del porcentaje de gasto en la hipoteca respecto a los ingresos. (Entre 0 y 1, es decir 0.5 si es del 50%)\n",
    "5. Calcula el porcentaje de gasto en la hipoteca si el ingreso es de 1700 euros y guárdalo en la variable `res_porcentaje`.\n",
    "6. Documenta ambas funciones."
   ]
  },
  {
   "cell_type": "code",
   "execution_count": null,
   "metadata": {},
   "outputs": [],
   "source": []
  },
  {
   "cell_type": "code",
   "execution_count": null,
   "metadata": {},
   "outputs": [],
   "source": []
  },
  {
   "cell_type": "code",
   "execution_count": null,
   "metadata": {},
   "outputs": [],
   "source": []
  },
  {
   "cell_type": "code",
   "execution_count": null,
   "metadata": {},
   "outputs": [],
   "source": []
  },
  {
   "cell_type": "code",
   "execution_count": null,
   "metadata": {},
   "outputs": [],
   "source": []
  },
  {
   "attachments": {},
   "cell_type": "markdown",
   "metadata": {},
   "source": [
    "¡Has terminado!\n",
    "\n",
    "Adjunta este fichero en la tarea del CampusVirtual"
   ]
  }
 ],
 "metadata": {
  "kernelspec": {
   "display_name": "Python 3",
   "language": "python",
   "name": "python3"
  },
  "language_info": {
   "codemirror_mode": {
    "name": "ipython",
    "version": 3
   },
   "file_extension": ".py",
   "mimetype": "text/x-python",
   "name": "python",
   "nbconvert_exporter": "python",
   "pygments_lexer": "ipython3",
   "version": "3.11.9"
  },
  "orig_nbformat": 4,
  "vscode": {
   "interpreter": {
    "hash": "1e989a6a87260c027f3014f78a3a3d191394072689c96a40223c8499353d25ee"
   }
  }
 },
 "nbformat": 4,
 "nbformat_minor": 2
}
