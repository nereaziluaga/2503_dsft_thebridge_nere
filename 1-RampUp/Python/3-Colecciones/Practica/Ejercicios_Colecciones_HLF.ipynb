{
 "cells": [
  {
   "cell_type": "markdown",
   "metadata": {},
   "source": [
    "## Ejercicio Extra HLF\n",
    "Vamos a empezar a programar trozos de código que nos servirán para el HLF:\n",
    "\n",
    "* Crear un Tablero como una lista de listas de 10x10 que contenga caracteres espacio: \" \"\n",
    "* Insertar dos barcos sustituyendo en el Tablero los espacios en blanco por el caracter \"B\":\n",
    "    * Uno de 4 casillas en horizontal: casillas [1][0], [1][1], [1][2], [1][3]\n",
    "    * Uno de 3 casillas en vertical:   casillas [3][3], [4][3], [4][4], [4][5]\n",
    "* Escribir una celda de código separada de las anteriores para simular que el usuario está efectuando un disparo: \n",
    "    *  Solicite al usuario dos coordenadas `i,j` mediante dos inputs\n",
    "    *  Compruebe si esas coordenadas están ocupada por una casilla barco (que haya una en \"B\")\n",
    "        * Si hay una \"B\":\n",
    "            * Cambiar el contenido de esa posición por una \"x\"\n",
    "            * Imprimir por pantalla el texto \"Tocado en posición `i,j`\"\n",
    "        * Si hay un \" \":\n",
    "            * Cambiar el contenido de esa posición por una \"o\"\n",
    "            * Imprimir por pantalla el texto \"Agua\"\n",
    "    * Imprimir por pantalla el Tablero\n",
    "* Para comprobar que funciona bien la celda de disparar ejecutarla varias veces metiendo distintas coordenadas\n",
    "\n",
    "### Bonus\n",
    "* En la celda de disparar, si el usuario acierta a tocar un barco, vuelve a disparar\n",
    "* Restilizando funciones\n",
    "    \n"
   ]
  },
  {
   "cell_type": "code",
   "execution_count": 9,
   "metadata": {},
   "outputs": [
    {
     "data": {
      "text/plain": [
       "[[' ', ' ', ' ', ' ', ' ', ' ', ' ', ' ', ' ', ' '],\n",
       " [' ', ' ', ' ', ' ', ' ', ' ', ' ', ' ', ' ', ' '],\n",
       " [' ', ' ', ' ', ' ', ' ', ' ', ' ', ' ', ' ', ' '],\n",
       " [' ', ' ', ' ', ' ', ' ', ' ', ' ', ' ', ' ', ' '],\n",
       " [' ', ' ', ' ', ' ', ' ', ' ', ' ', ' ', ' ', ' '],\n",
       " [' ', ' ', ' ', ' ', ' ', ' ', ' ', ' ', ' ', ' '],\n",
       " [' ', ' ', ' ', ' ', ' ', ' ', ' ', ' ', ' ', ' '],\n",
       " [' ', ' ', ' ', ' ', ' ', ' ', ' ', ' ', ' ', ' '],\n",
       " [' ', ' ', ' ', ' ', ' ', ' ', ' ', ' ', ' ', ' '],\n",
       " [' ', ' ', ' ', ' ', ' ', ' ', ' ', ' ', ' ', ' ']]"
      ]
     },
     "execution_count": 9,
     "metadata": {},
     "output_type": "execute_result"
    }
   ],
   "source": [
    "tablero=[]\n",
    "for i in range(10):\n",
    "    linea=[]\n",
    "    for j in range(10):\n",
    "        linea.append(\" \")\n",
    "    tablero.append(linea)\n",
    "tablero\n",
    "\n"
   ]
  },
  {
   "cell_type": "code",
   "execution_count": 11,
   "metadata": {},
   "outputs": [
    {
     "ename": "IndexError",
     "evalue": "list assignment index out of range",
     "output_type": "error",
     "traceback": [
      "\u001b[31m---------------------------------------------------------------------------\u001b[39m",
      "\u001b[31mIndexError\u001b[39m                                Traceback (most recent call last)",
      "\u001b[36mCell\u001b[39m\u001b[36m \u001b[39m\u001b[32mIn[11]\u001b[39m\u001b[32m, line 2\u001b[39m\n\u001b[32m      1\u001b[39m tablero= [\u001b[32m1\u001b[39m][\u001b[32m0\u001b[39m]=\u001b[33m\"\u001b[39m\u001b[33mB\u001b[39m\u001b[33m\"\u001b[39m\n\u001b[32m----> \u001b[39m\u001b[32m2\u001b[39m tablero= \u001b[43m[\u001b[49m\u001b[32;43m1\u001b[39;49m\u001b[43m]\u001b[49m\u001b[43m[\u001b[49m\u001b[32;43m2\u001b[39;49m\u001b[43m]\u001b[49m=\u001b[33m\"\u001b[39m\u001b[33mB\u001b[39m\u001b[33m\"\u001b[39m\n\u001b[32m      3\u001b[39m tablero= [\u001b[32m1\u001b[39m][\u001b[32m3\u001b[39m]=\u001b[33m\"\u001b[39m\u001b[33mB\u001b[39m\u001b[33m\"\u001b[39m\n",
      "\u001b[31mIndexError\u001b[39m: list assignment index out of range"
     ]
    }
   ],
   "source": [
    "tablero= [1][0]=\"B\"\n",
    "tablero= [1][1]=\"B\"\n",
    "tablero= [1][2]=\"B\"\n",
    "tablero= [1][3]=\"B\""
   ]
  },
  {
   "cell_type": "code",
   "execution_count": null,
   "metadata": {},
   "outputs": [],
   "source": [
    "def disparo (talero, i,j):\n",
    "    if tablero [i][j]==\"B\":\n",
    "        print(\"Tocado\")\n",
    "    if tablero [i][j]==\"x\":\n",
    "        return True\n",
    "    elif tablero [i][j]==\" \":\n",
    "        print(\"Agua\")\n",
    "    elif tablero [i][j]==\"o\":\n",
    "        return False  \n",
    "    else:\n",
    "        print (\"Ya habías disparado aquí\")\n",
    "        return False"
   ]
  },
  {
   "cell_type": "code",
   "execution_count": null,
   "metadata": {},
   "outputs": [],
   "source": [
    "disparo (tablero, 0,0)\n",
    "tablero"
   ]
  },
  {
   "cell_type": "code",
   "execution_count": null,
   "metadata": {},
   "outputs": [],
   "source": [
    "while True:\n",
    "    i=int(input(\"Introduce la fila, por favor\"))\n",
    "    j=int(input(\"Introduce la columna, por favor\"))\n",
    "    if not disparo(tablero,i,j):\n",
    "        break"
   ]
  }
 ],
 "metadata": {
  "kernelspec": {
   "display_name": "Python 3",
   "language": "python",
   "name": "python3"
  },
  "language_info": {
   "codemirror_mode": {
    "name": "ipython",
    "version": 3
   },
   "file_extension": ".py",
   "mimetype": "text/x-python",
   "name": "python",
   "nbconvert_exporter": "python",
   "pygments_lexer": "ipython3",
   "version": "3.11.9"
  }
 },
 "nbformat": 4,
 "nbformat_minor": 2
}
