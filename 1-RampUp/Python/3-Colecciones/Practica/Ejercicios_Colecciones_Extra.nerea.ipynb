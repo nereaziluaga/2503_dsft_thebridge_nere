{
 "cells": [
  {
   "cell_type": "markdown",
   "metadata": {},
   "source": [
    "## Ejercicio Extra\n",
    "Programa el SW de una biblioteca:\n",
    "\n",
    "* Preguntar qué operación quieres realizar (visualizar todos los libros de la biblioteca/buscar libro/añadir libro/eliminar libro por título)\n",
    "    * En caso de que pida el usuario elija visualizar se visualizarán todos los libros\n",
    "    * Buscar libro: búsqueda por título que introduce el usuario y se visualiza todos los campos del libro\n",
    "    * Añadir libro: se debe solicitar al usuario que introduzca título y autor para el nuevo libro y se añade el libro a la lista de libros\n",
    "    * Eliminar libro: se solicita al usuario el título del libro y éste debe ser eliminado de la lista de libros\n",
    "    * Alquilar libro: se solicita al usuario el título del libro y se debe pasar el campo \"Alquilado\" a True\n",
    "    * Devolver libro: se solicita al usuario el título del libro y se debe pasar el campo \"Alquilado\" a False"
   ]
  },
  {
   "cell_type": "code",
   "execution_count": 1,
   "metadata": {},
   "outputs": [],
   "source": [
    "libros = [\n",
    "    {\"Titulo\": \"Python Data Science Handbook\", \"Autor\": \"Jake VanderPlas\", \"Alquilado\": False},\n",
    "    {\"Titulo\": \"Hands-On Machine Learning with Scikit-Learn, Keras, and TensorFlow\", \"Autor\": \"Aurélien Géron\", \"Alquilado\": True},\n",
    "    {\"Titulo\": \"Pattern Recognition and Machine Learning\", \"Autor\": \"Christopher M. Bishop\", \"Alquilado\": False},\n",
    "    {\"Titulo\": \"Deep Learning\", \"Autor\": \"Ian Goodfellow, Yoshua Bengio, Aaron Courville\", \"Alquilado\": True},\n",
    "    {\"Titulo\": \"The Elements of Statistical Learning\", \"Autor\": \"Trevor Hastie, Robert Tibshirani, Jerome Friedman\", \"Alquilado\": False},\n",
    "    {\"Titulo\": \"Data Science for Business\", \"Autor\": \"Foster Provost, Tom Fawcett\", \"Alquilado\": False},\n",
    "    {\"Titulo\": \"Bayesian Data Analysis\", \"Autor\": \"Andrew Gelman et al.\", \"Alquilado\": True},\n",
    "    {\"Titulo\": \"Introduction to the Theory of Computation\", \"Autor\": \"Michael Sipser\", \"Alquilado\": False},\n",
    "    {\"Titulo\": \"Artificial Intelligence: A Modern Approach\", \"Autor\": \"Stuart Russell, Peter Norvig\", \"Alquilado\": True},\n",
    "    {\"Titulo\": \"Computer Vision: Algorithms and Applications\", \"Autor\": \"Richard Szeliski\", \"Alquilado\": False},\n",
    "    {\"Titulo\": \"Data Science from Scratch\", \"Autor\": \"Joel Grus\", \"Alquilado\": True},\n",
    "    {\"Titulo\": \"The Art of Statistics\", \"Autor\": \"David Spiegelhalter\", \"Alquilado\": False},\n",
    "    {\"Titulo\": \"Python Machine Learning\", \"Autor\": \"Sebastian Raschka, Vahid Mirjalili\", \"Alquilado\": True},\n",
    "    {\"Titulo\": \"An Introduction to Statistical Learning\", \"Autor\": \"Gareth James, Daniela Witten, Trevor Hastie, Robert Tibshirani\", \"Alquilado\": False},\n",
    "    {\"Titulo\": \"Fundamentals of Data Engineering\", \"Autor\": \"Joe Reis, Matt Housley\", \"Alquilado\": False},\n",
    "    {\"Titulo\": \"Storytelling with Data\", \"Autor\": \"Cole Nussbaumer Knaflic\", \"Alquilado\": True},\n",
    "    {\"Titulo\": \"Building Machine Learning Powered Applications\", \"Autor\": \"Emmanuel Ameisen\", \"Alquilado\": False},\n",
    "    {\"Titulo\": \"Practical Statistics for Data Scientists\", \"Autor\": \"Peter Bruce, Andrew Bruce\", \"Alquilado\": True},\n",
    "    {\"Titulo\": \"SQL for Data Scientists\", \"Autor\": \"Renee M. P. Teate\", \"Alquilado\": False},\n",
    "    {\"Titulo\": \"Data Engineering on Azure\", \"Autor\": \"Vlad Riscutia\", \"Alquilado\": True}\n",
    "]\n"
   ]
  },
  {
   "cell_type": "code",
   "execution_count": null,
   "metadata": {},
   "outputs": [],
   "source": []
  },
  {
   "cell_type": "code",
   "execution_count": null,
   "metadata": {},
   "outputs": [],
   "source": [
    "import pprint\n",
    "salir=False\n",
    "while not salir:\n",
    "    opcion=input(\"Qué operación deseas realizar: Visualizar todos los libros, Buscar libro, Añadir libro, Eliminar libro, Alquilar libro, Devolver libro  salir\")\n",
    "    opcion = opcion.lower().strip()\n",
    "            \n",
    "# En caso de que pida el usuario elija VISUALIZAR se visualizarán todos los libros\n",
    "def imprimir_libros(libros):\n",
    "    return pprint.pprint (libros)\n",
    "# BUSCAR: búsqueda por título que introduce el usuario \n",
    "# y se visualizan todos los campos del libro\n",
    "def buscar_libro(libros):\n",
    "    titulo_buscar=input(\"Introduce el título del libro\")\n",
    "    for libro in libros: \n",
    "        titulo_buscar=libro[\"Titulo\"]\n",
    "        print (f\"El titulo {titulo_buscar} está disponible en la biblioteca\")\n",
    "# AÑADIR: se debe solicitar al usuario que introduzca título y \n",
    "# autor para el nuevo libro y se añade el libro a la lista de libros\n",
    "def añadir_libro(libros):\n",
    "    titulo_añadir=input(\"Introduce el título del libro que quieras añadir\")\n",
    "    autor_añadir=input(\"Introduce el nomre de la autora del libro que quieras añadir\")\n",
    "    for libro in libros: \n",
    "        print (libros.append(titulo_añadir))\n",
    "        print (libros.append(autor_añadir))\n",
    "        print (libros)\n",
    "# ELIMINAR: se solicita al usuario el título del libro \n",
    "# y éste debe ser eliminado de la lista de libros\n",
    "def eliminar_libro(libros):\n",
    "    titulo_eliminar=input(\"Introduce el título del libro que quieras eliminar\")\n",
    "    for libro in libros: \n",
    "        titulo_eliminar=libro[\"Titulo\"]\n",
    "        print (f\"El titulo {titulo_eliminar} es el que quieres eliminar\")\n",
    "        print (libros.remove(titulo_eliminar))\n",
    "        print (libros) \n",
    "#ALQUILAR: se solicita al usuario el título se debe pasar el campo \"Alquilado\" a True\n",
    "def alquilar_libro (libros):\n",
    "    titulo_alquiler=input(\"Dime qué libro quieres alquilar\")\n",
    "    for libro in libros:\n",
    "        if titulo_alquiler==libro[\"Titulo\"]:\n",
    "            libro[\"Alquilado\"]=True\n",
    "# DEVOLVER: se solicita al usuario el título del libro \n",
    "# y se debe pasar el campo \"Alquilado\" a False\n",
    "def devolver_libro (libros):\n",
    "    titulo_devolver=input(\"Dime qué libro quieres alquidevolverlar\")\n",
    "    for libro in libros:\n",
    "        if titulo_devolver==libro[\"Titulo\"]:\n",
    "            libro[\"Alquilado\"]=True    \n",
    "    match opcion:\n",
    "        case \"Visualizar\":\n",
    "            opcion=imprimir_libros()\n",
    "        case \"Buscar\":\n",
    "            opcion= buscar_libro(libros)  "
   ]
  },
  {
   "cell_type": "code",
   "execution_count": null,
   "metadata": {},
   "outputs": [],
   "source": [
    "def buscar_libro(libros):\n",
    "    titulo_buscar = input(\"Introduce e titulo\")\n",
    "    for libro in libros:\n",
    "        titulo=libro[\"Titulo\"]\n",
    "        print(titulo)\n",
    "        if titulo == titulo_buscar:\n",
    "            print (\"Libro encontrado\")   \n",
    "            print(libro)\n",
    "            break\n",
    "        \n",
    "def buscar_libro():\n",
    "    titulo_buscar=input(\"Introduce el título del libro\")\n",
    "for libro in libros: \n",
    "    titulo_buscar=libro[\"Titulo\"]\n",
    "    print (f\"El titulo {titulo} está disponible en la biblioteca\")\n",
    "    if titulo == titulo_buscar:\n",
    "        print (\"Libro encontrado\")   \n",
    "        print(libro)"
   ]
  },
  {
   "cell_type": "code",
   "execution_count": null,
   "metadata": {},
   "outputs": [],
   "source": [
    "def visualizar_libro(libros):\n",
    "    "
   ]
  },
  {
   "cell_type": "code",
   "execution_count": null,
   "metadata": {},
   "outputs": [],
   "source": [
    "def buscar_libro(libros):\n",
    "    titulo_buscar = input (\"HAz una búsqueda\")"
   ]
  },
  {
   "cell_type": "code",
   "execution_count": null,
   "metadata": {},
   "outputs": [],
   "source": [
    "salir=False\n",
    "while not salir:\n",
    "    opcion=input(\"Visualizar/Buscar/Alquilar\")\n",
    "    match opcion:\n",
    "        case \"visualizar\":\n",
    "            imprimir_libros(libros)\n",
    "        case \"Buscar\":\n",
    "            buscar_libro (libros)"
   ]
  }
 ],
 "metadata": {
  "kernelspec": {
   "display_name": "Python 3",
   "language": "python",
   "name": "python3"
  },
  "language_info": {
   "codemirror_mode": {
    "name": "ipython",
    "version": 3
   },
   "file_extension": ".py",
   "mimetype": "text/x-python",
   "name": "python",
   "nbconvert_exporter": "python",
   "pygments_lexer": "ipython3",
   "version": "3.11.9"
  }
 },
 "nbformat": 4,
 "nbformat_minor": 2
}
